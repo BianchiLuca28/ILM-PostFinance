{
 "cells": [
  {
   "cell_type": "markdown",
   "metadata": {},
   "source": [
    "# Model Training & Evaluation\n",
    "\n",
    "Here we finally train and test different models to find the best ones.\n",
    "\n",
    "We test the following models:\n",
    "- Logistic Regression.\n",
    "- Naive Bayes.\n",
    "- Decision Tree.\n",
    "- Random Forest.\n",
    "- XGBoost.\n",
    "- LightGBM.\n",
    "\n",
    "Also, for each of the models:\n",
    "1. We first apply the **K-Fold Cross Validation** (with k=5) to find the best model family.\n",
    "2. We also train a model again for each of them, in order to compare different metrics for each of them when the model is trained on the whole training dataset.\n",
    "\n",
    "The metrics we use are:\n",
    "- Accuracy.\n",
    "- Cross-Validation Accuracy\n",
    "- Cross-Validation Standard Deviation.\n",
    "- ROC-AUC."
   ]
  },
  {
   "cell_type": "markdown",
   "metadata": {},
   "source": [
    "# Imports"
   ]
  },
  {
   "cell_type": "code",
   "execution_count": 25,
   "metadata": {},
   "outputs": [],
   "source": [
    "# Core libraries\n",
    "import pandas as pd\n",
    "import numpy as np\n",
    "import matplotlib.pyplot as plt\n",
    "import seaborn as sns\n",
    "\n",
    "# Machine learning models and tools\n",
    "from sklearn.ensemble import RandomForestClassifier\n",
    "from sklearn.linear_model import LogisticRegression\n",
    "from sklearn.svm import SVC\n",
    "from sklearn.naive_bayes import GaussianNB\n",
    "from sklearn.tree import DecisionTreeClassifier\n",
    "from xgboost import XGBClassifier\n",
    "from lightgbm import LGBMClassifier\n",
    "\n",
    "# Data preprocessing and utilities\n",
    "from sklearn.model_selection import cross_val_score\n",
    "\n",
    "# Metrics and evaluation\n",
    "from sklearn.metrics import (\n",
    "    accuracy_score,\n",
    "    classification_report,\n",
    "    confusion_matrix,\n",
    "    roc_auc_score,\n",
    "    roc_curve,\n",
    "    auc,\n",
    ")"
   ]
  },
  {
   "cell_type": "markdown",
   "metadata": {},
   "source": [
    "# Loading preprocessed datasets"
   ]
  },
  {
   "cell_type": "code",
   "execution_count": 26,
   "metadata": {},
   "outputs": [],
   "source": [
    "# Load datasets\n",
    "X_train = pd.read_csv(\"../database/preprocessed_dataset/X_train.csv\")\n",
    "y_train = pd.read_csv(\"../database/preprocessed_dataset/y_train.csv\")\n",
    "X_test = pd.read_csv(\"../database/preprocessed_dataset/X_test.csv\")\n",
    "y_test = pd.read_csv(\"../database/preprocessed_dataset/y_test.csv\")"
   ]
  },
  {
   "cell_type": "markdown",
   "metadata": {},
   "source": [
    "# Models"
   ]
  },
  {
   "cell_type": "code",
   "execution_count": 27,
   "metadata": {},
   "outputs": [],
   "source": [
    "# List of models to train\n",
    "models = {\n",
    "    \"Logistic Regression\": LogisticRegression(max_iter=1000, random_state=42, class_weight='balanced'),\n",
    "    \"Naive Bayes\": GaussianNB(),\n",
    "    \"Decision Tree\": DecisionTreeClassifier(random_state=42, class_weight='balanced'),\n",
    "    \"Random Forest\": RandomForestClassifier(n_estimators=100, random_state=42, class_weight='balanced'),\n",
    "    \"XGBoost\": XGBClassifier(eval_metric='mlogloss', random_state=42),\n",
    "    \"LightGBM\": LGBMClassifier(random_state=42)\n",
    "}"
   ]
  },
  {
   "cell_type": "code",
   "execution_count": 28,
   "metadata": {},
   "outputs": [],
   "source": [
    "# Ensure y_train and y_test are 1D\n",
    "y_train = y_train.values.ravel() if isinstance(y_train, pd.DataFrame) else y_train.ravel()\n",
    "y_test = y_test.values.ravel() if isinstance(y_test, pd.DataFrame) else y_test.ravel()"
   ]
  },
  {
   "cell_type": "code",
   "execution_count": 29,
   "metadata": {},
   "outputs": [
    {
     "name": "stdout",
     "output_type": "stream",
     "text": [
      "\n",
      "Training Logistic Regression...\n",
      "Logistic Regression Cross-Validation Accuracy: 0.9824 (+/- 0.0013)\n",
      "\n",
      "Model: Logistic Regression\n",
      "Test Set Accuracy: 0.9810\n",
      "ROC AUC: 0.9976\n",
      "Classification Report:\n",
      "              precision    recall  f1-score   support\n",
      "\n",
      "           0       1.00      0.98      0.99     13417\n",
      "           1       0.38      0.99      0.55       158\n",
      "\n",
      "    accuracy                           0.98     13575\n",
      "   macro avg       0.69      0.98      0.77     13575\n",
      "weighted avg       0.99      0.98      0.99     13575\n",
      "\n",
      "Confusion Matrix:\n",
      "[[13161   256]\n",
      " [    2   156]]\n",
      "\n",
      "============================================================\n",
      "\n",
      "\n",
      "Training Naive Bayes...\n",
      "Naive Bayes Cross-Validation Accuracy: 0.9843 (+/- 0.0043)\n",
      "\n",
      "Model: Naive Bayes\n",
      "Test Set Accuracy: 0.9883\n",
      "ROC AUC: 0.9913\n",
      "Classification Report:\n",
      "              precision    recall  f1-score   support\n",
      "\n",
      "           0       1.00      0.99      0.99     13417\n",
      "           1       0.50      0.82      0.62       158\n",
      "\n",
      "    accuracy                           0.99     13575\n",
      "   macro avg       0.75      0.90      0.81     13575\n",
      "weighted avg       0.99      0.99      0.99     13575\n",
      "\n",
      "Confusion Matrix:\n",
      "[[13287   130]\n",
      " [   29   129]]\n",
      "\n",
      "============================================================\n",
      "\n",
      "\n",
      "Training Decision Tree...\n",
      "Decision Tree Cross-Validation Accuracy: 0.9937 (+/- 0.0052)\n",
      "\n",
      "Model: Decision Tree\n",
      "Test Set Accuracy: 0.9951\n",
      "ROC AUC: 0.9006\n",
      "Classification Report:\n",
      "              precision    recall  f1-score   support\n",
      "\n",
      "           0       1.00      1.00      1.00     13417\n",
      "           1       0.78      0.80      0.79       158\n",
      "\n",
      "    accuracy                           1.00     13575\n",
      "   macro avg       0.89      0.90      0.90     13575\n",
      "weighted avg       1.00      1.00      1.00     13575\n",
      "\n",
      "Confusion Matrix:\n",
      "[[13382    35]\n",
      " [   31   127]]\n",
      "\n",
      "============================================================\n",
      "\n",
      "\n",
      "Training Random Forest...\n",
      "Random Forest Cross-Validation Accuracy: 0.9962 (+/- 0.0016)\n",
      "\n",
      "Model: Random Forest\n",
      "Test Set Accuracy: 0.9939\n",
      "ROC AUC: 0.9984\n",
      "Classification Report:\n",
      "              precision    recall  f1-score   support\n",
      "\n",
      "           0       1.00      1.00      1.00     13417\n",
      "           1       0.71      0.80      0.75       158\n",
      "\n",
      "    accuracy                           0.99     13575\n",
      "   macro avg       0.85      0.90      0.87     13575\n",
      "weighted avg       0.99      0.99      0.99     13575\n",
      "\n",
      "Confusion Matrix:\n",
      "[[13366    51]\n",
      " [   32   126]]\n",
      "\n",
      "============================================================\n",
      "\n",
      "\n",
      "Training XGBoost...\n",
      "XGBoost Cross-Validation Accuracy: 0.9970 (+/- 0.0012)\n",
      "\n",
      "Model: XGBoost\n",
      "Test Set Accuracy: 0.9968\n",
      "ROC AUC: 0.9993\n",
      "Classification Report:\n",
      "              precision    recall  f1-score   support\n",
      "\n",
      "           0       1.00      1.00      1.00     13417\n",
      "           1       0.83      0.91      0.87       158\n",
      "\n",
      "    accuracy                           1.00     13575\n",
      "   macro avg       0.92      0.95      0.93     13575\n",
      "weighted avg       1.00      1.00      1.00     13575\n",
      "\n",
      "Confusion Matrix:\n",
      "[[13388    29]\n",
      " [   15   143]]\n",
      "\n",
      "============================================================\n",
      "\n",
      "\n",
      "Training LightGBM...\n",
      "[LightGBM] [Info] Number of positive: 5064, number of negative: 42930\n",
      "[LightGBM] [Info] Auto-choosing row-wise multi-threading, the overhead of testing was 0.002657 seconds.\n",
      "You can set `force_row_wise=true` to remove the overhead.\n",
      "And if memory is not enough, you can set `force_col_wise=true`.\n",
      "[LightGBM] [Info] Total Bins 2887\n",
      "[LightGBM] [Info] Number of data points in the train set: 47994, number of used features: 21\n",
      "[LightGBM] [Info] [binary:BoostFromScore]: pavg=0.105513 -> initscore=-2.137414\n",
      "[LightGBM] [Info] Start training from score -2.137414\n",
      "[LightGBM] [Info] Number of positive: 5064, number of negative: 42930\n",
      "[LightGBM] [Info] Auto-choosing row-wise multi-threading, the overhead of testing was 0.002197 seconds.\n",
      "You can set `force_row_wise=true` to remove the overhead.\n",
      "And if memory is not enough, you can set `force_col_wise=true`.\n",
      "[LightGBM] [Info] Total Bins 2884\n",
      "[LightGBM] [Info] Number of data points in the train set: 47994, number of used features: 21\n",
      "[LightGBM] [Info] [binary:BoostFromScore]: pavg=0.105513 -> initscore=-2.137414\n",
      "[LightGBM] [Info] Start training from score -2.137414\n",
      "[LightGBM] [Info] Number of positive: 5064, number of negative: 42930\n",
      "[LightGBM] [Info] Auto-choosing row-wise multi-threading, the overhead of testing was 0.002308 seconds.\n",
      "You can set `force_row_wise=true` to remove the overhead.\n",
      "And if memory is not enough, you can set `force_col_wise=true`.\n",
      "[LightGBM] [Info] Total Bins 2885\n",
      "[LightGBM] [Info] Number of data points in the train set: 47994, number of used features: 21\n",
      "[LightGBM] [Info] [binary:BoostFromScore]: pavg=0.105513 -> initscore=-2.137414\n",
      "[LightGBM] [Info] Start training from score -2.137414\n",
      "[LightGBM] [Info] Number of positive: 5064, number of negative: 42931\n",
      "[LightGBM] [Info] Auto-choosing row-wise multi-threading, the overhead of testing was 0.002788 seconds.\n",
      "You can set `force_row_wise=true` to remove the overhead.\n",
      "And if memory is not enough, you can set `force_col_wise=true`.\n",
      "[LightGBM] [Info] Total Bins 2885\n",
      "[LightGBM] [Info] Number of data points in the train set: 47995, number of used features: 21\n",
      "[LightGBM] [Info] [binary:BoostFromScore]: pavg=0.105511 -> initscore=-2.137437\n",
      "[LightGBM] [Info] Start training from score -2.137437\n",
      "[LightGBM] [Info] Number of positive: 5064, number of negative: 42931\n",
      "[LightGBM] [Info] Auto-choosing col-wise multi-threading, the overhead of testing was 0.005439 seconds.\n",
      "You can set `force_col_wise=true` to remove the overhead.\n",
      "[LightGBM] [Info] Total Bins 2889\n",
      "[LightGBM] [Info] Number of data points in the train set: 47995, number of used features: 21\n",
      "[LightGBM] [Info] [binary:BoostFromScore]: pavg=0.105511 -> initscore=-2.137437\n",
      "[LightGBM] [Info] Start training from score -2.137437\n",
      "LightGBM Cross-Validation Accuracy: 0.9976 (+/- 0.0010)\n",
      "[LightGBM] [Info] Number of positive: 6330, number of negative: 53663\n",
      "[LightGBM] [Info] Auto-choosing row-wise multi-threading, the overhead of testing was 0.003239 seconds.\n",
      "You can set `force_row_wise=true` to remove the overhead.\n",
      "And if memory is not enough, you can set `force_col_wise=true`.\n",
      "[LightGBM] [Info] Total Bins 2887\n",
      "[LightGBM] [Info] Number of data points in the train set: 59993, number of used features: 21\n",
      "[LightGBM] [Info] [binary:BoostFromScore]: pavg=0.105512 -> initscore=-2.137424\n",
      "[LightGBM] [Info] Start training from score -2.137424\n",
      "\n",
      "Model: LightGBM\n",
      "Test Set Accuracy: 0.9971\n",
      "ROC AUC: 0.9995\n",
      "Classification Report:\n",
      "              precision    recall  f1-score   support\n",
      "\n",
      "           0       1.00      1.00      1.00     13417\n",
      "           1       0.84      0.94      0.88       158\n",
      "\n",
      "    accuracy                           1.00     13575\n",
      "   macro avg       0.92      0.97      0.94     13575\n",
      "weighted avg       1.00      1.00      1.00     13575\n",
      "\n",
      "Confusion Matrix:\n",
      "[[13388    29]\n",
      " [   10   148]]\n",
      "\n",
      "============================================================\n",
      "\n"
     ]
    }
   ],
   "source": [
    "# Train and evaluate models\n",
    "results = {}\n",
    "\n",
    "for model_name, model in models.items():\n",
    "    print(f\"\\nTraining {model_name}...\")\n",
    "\n",
    "    # Cross-validation\n",
    "    cv_scores = cross_val_score(model, X_train, y_train, cv=5, scoring='accuracy')\n",
    "    print(f\"{model_name} Cross-Validation Accuracy: {cv_scores.mean():.4f} (+/- {cv_scores.std():.4f})\")\n",
    "\n",
    "    # Train the model on the whole training dataset this time\n",
    "    model.fit(X_train, y_train)\n",
    "\n",
    "    # Test set predictions\n",
    "    y_pred = model.predict(X_test)\n",
    "    y_pred_prob = model.predict_proba(X_test) if hasattr(model, \"predict_proba\") else None\n",
    "\n",
    "    # Metrics\n",
    "    accuracy = accuracy_score(y_test, y_pred)\n",
    "    class_report = classification_report(y_test, y_pred, output_dict=True, zero_division=0)\n",
    "    confusion = confusion_matrix(y_test, y_pred)\n",
    "    # Extract probabilities for the positive class (class 1)\n",
    "    y_pred_prob_positive = y_pred_prob[:, 1]\n",
    "    # Compute the ROC AUC score\n",
    "    roc_auc = roc_auc_score(y_test, y_pred_prob_positive)\n",
    "\n",
    "    # Store results\n",
    "    results[model_name] = {\n",
    "        \"Accuracy\": accuracy,\n",
    "        \"Cross-Validation Accuracy\": cv_scores.mean(),\n",
    "        \"Cross-Validation Std Dev\": cv_scores.std(),\n",
    "        \"Classification Report\": class_report,\n",
    "        \"Confusion Matrix\": confusion,\n",
    "        \"ROC AUC\": roc_auc,\n",
    "    }\n",
    "\n",
    "    # Print metrics\n",
    "    print(f\"\\nModel: {model_name}\")\n",
    "    print(f\"Test Set Accuracy: {accuracy:.4f}\")\n",
    "    if roc_auc is not None:\n",
    "        print(f\"ROC AUC: {roc_auc:.4f}\")\n",
    "    print(\"Classification Report:\")\n",
    "    print(classification_report(y_test, y_pred, zero_division=0))\n",
    "    print(\"Confusion Matrix:\")\n",
    "    print(confusion)\n",
    "    print(\"\\n\" + \"=\" * 60 + \"\\n\")"
   ]
  },
  {
   "cell_type": "markdown",
   "metadata": {},
   "source": [
    "## Summary of results"
   ]
  },
  {
   "cell_type": "code",
   "execution_count": 30,
   "metadata": {},
   "outputs": [
    {
     "name": "stdout",
     "output_type": "stream",
     "text": [
      "Summary of Results:\n",
      "                     Test Accuracy  Cross-Val Accuracy   ROC AUC\n",
      "Logistic Regression       0.980994            0.982431  0.997566\n",
      "Naive Bayes               0.988287            0.984298  0.991255\n",
      "Decision Tree             0.995138            0.993666  0.900594\n",
      "Random Forest             0.993886            0.996200  0.998415\n",
      "XGBoost                   0.996759            0.997016  0.999316\n",
      "LightGBM                  0.997127            0.997616  0.999456\n"
     ]
    }
   ],
   "source": [
    "# Display summary results\n",
    "results_df = pd.DataFrame({\n",
    "    model: {\n",
    "        \"Test Accuracy\": metrics[\"Accuracy\"],\n",
    "        \"Cross-Val Accuracy\": metrics[\"Cross-Validation Accuracy\"],\n",
    "        \"ROC AUC\": metrics[\"ROC AUC\"],\n",
    "    }\n",
    "    for model, metrics in results.items()\n",
    "}).T\n",
    "\n",
    "print(\"Summary of Results:\")\n",
    "print(results_df)"
   ]
  },
  {
   "cell_type": "code",
   "execution_count": 31,
   "metadata": {},
   "outputs": [
    {
     "data": {
      "image/png": "[encoded data removed]",
      "text/plain": [
       "<Figure size 1000x600 with 1 Axes>"
      ]
     },
     "metadata": {},
     "output_type": "display_data"
    }
   ],
   "source": [
    "# Plot Test Accuracy for Comparison\n",
    "plt.figure(figsize=(10, 6))\n",
    "results_df[\"Test Accuracy\"].sort_values(ascending=False).plot(kind=\"bar\", color=\"skyblue\")\n",
    "plt.title(\"Model Comparison: Test Accuracy\")\n",
    "plt.ylabel(\"Accuracy\")\n",
    "plt.xlabel(\"Model\")\n",
    "plt.xticks(rotation=45)\n",
    "plt.show()"
   ]
  },
  {
   "cell_type": "markdown",
   "metadata": {},
   "source": [
    "# Analysis of Results\n",
    "\n",
    "The LightGBM model provides key insights for predicting the eligibility of a customer."
   ]
  },
  {
   "cell_type": "markdown",
   "metadata": {},
   "source": [
    "## Train best model"
   ]
  },
  {
   "cell_type": "code",
   "execution_count": 32,
   "metadata": {},
   "outputs": [
    {
     "name": "stdout",
     "output_type": "stream",
     "text": [
      "[LightGBM] [Info] Number of positive: 6330, number of negative: 53663\n",
      "[LightGBM] [Info] Auto-choosing row-wise multi-threading, the overhead of testing was 0.003393 seconds.\n",
      "You can set `force_row_wise=true` to remove the overhead.\n",
      "And if memory is not enough, you can set `force_col_wise=true`.\n",
      "[LightGBM] [Info] Total Bins 2887\n",
      "[LightGBM] [Info] Number of data points in the train set: 59993, number of used features: 21\n",
      "[LightGBM] [Info] [binary:BoostFromScore]: pavg=0.105512 -> initscore=-2.137424\n",
      "[LightGBM] [Info] Start training from score -2.137424\n"
     ]
    }
   ],
   "source": [
    "# Train the final Random Forest model\n",
    "final_model = LGBMClassifier(random_state=42)\n",
    "final_model.fit(X_train, y_train)\n",
    "\n",
    "# Make predictions on the test set\n",
    "y_pred = final_model.predict(X_test)\n",
    "y_pred_prob = final_model.predict_proba(X_test)"
   ]
  },
  {
   "cell_type": "markdown",
   "metadata": {},
   "source": [
    "## Compute metrics of performance"
   ]
  },
  {
   "cell_type": "code",
   "execution_count": 33,
   "metadata": {},
   "outputs": [],
   "source": [
    "# Calculate performance metrics\n",
    "accuracy = accuracy_score(y_test, y_pred)\n",
    "class_report = classification_report(y_test, y_pred, output_dict=True, zero_division=0)\n",
    "confusion = confusion_matrix(y_test, y_pred)\n",
    "# Extract probabilities for the positive class (class 1)\n",
    "y_pred_prob_positive = y_pred_prob[:, 1]\n",
    "# Compute the ROC AUC score\n",
    "roc_auc = roc_auc_score(y_test, y_pred_prob_positive)"
   ]
  },
  {
   "cell_type": "code",
   "execution_count": 34,
   "metadata": {},
   "outputs": [
    {
     "name": "stdout",
     "output_type": "stream",
     "text": [
      "Final Model: LightGBM\n",
      "Test Set Accuracy: 0.9971\n",
      "ROC AUC: 0.9995\n",
      "Classification Report:\n",
      "              precision    recall  f1-score   support\n",
      "\n",
      "           0       1.00      1.00      1.00     13417\n",
      "           1       0.84      0.94      0.88       158\n",
      "\n",
      "    accuracy                           1.00     13575\n",
      "   macro avg       0.92      0.97      0.94     13575\n",
      "weighted avg       1.00      1.00      1.00     13575\n",
      "\n",
      "Confusion Matrix:\n",
      "[[13388    29]\n",
      " [   10   148]]\n"
     ]
    }
   ],
   "source": [
    "# Print metrics\n",
    "print(f\"Final Model: LightGBM\")\n",
    "print(f\"Test Set Accuracy: {accuracy:.4f}\")\n",
    "print(f\"ROC AUC: {roc_auc:.4f}\")\n",
    "print(\"Classification Report:\")\n",
    "print(classification_report(y_test, y_pred, zero_division=0))\n",
    "print(\"Confusion Matrix:\")\n",
    "print(confusion)"
   ]
  },
  {
   "cell_type": "code",
   "execution_count": 35,
   "metadata": {},
   "outputs": [
    {
     "data": {
      "image/png": "[encoded data removed]",
      "text/plain": [
       "<Figure size 800x600 with 1 Axes>"
      ]
     },
     "metadata": {},
     "output_type": "display_data"
    }
   ],
   "source": [
    "# Compute ROC curve\n",
    "fpr, tpr, thresholds = roc_curve(y_test, y_pred_prob_positive)\n",
    "\n",
    "# Plot the ROC curve\n",
    "plt.figure(figsize=(8, 6))\n",
    "plt.plot(fpr, tpr, color='blue', label=f\"ROC Curve (AUC = {roc_auc:.2f})\")\n",
    "plt.plot([0, 1], [0, 1], color='gray', linestyle='--', label=\"Random Classifier\")\n",
    "plt.title(\"Receiver Operating Characteristic (ROC) Curve\")\n",
    "plt.xlabel(\"False Positive Rate\")\n",
    "plt.ylabel(\"True Positive Rate\")\n",
    "plt.legend(loc=\"lower right\")\n",
    "plt.grid()\n",
    "plt.show()"
   ]
  }
 ],
 "metadata": {
  "kernelspec": {
   "display_name": "env",
   "language": "python",
   "name": "python3"
  },
  "language_info": {
   "codemirror_mode": {
    "name": "ipython",
    "version": 3
   },
   "file_extension": ".py",
   "mimetype": "text/x-python",
   "name": "python",
   "nbconvert_exporter": "python",
   "pygments_lexer": "ipython3",
   "version": "3.10.7"
  }
 },
 "nbformat": 4,
 "nbformat_minor": 2
}
